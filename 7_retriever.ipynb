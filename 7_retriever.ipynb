{
 "cells": [
  {
   "cell_type": "code",
   "execution_count": null,
   "metadata": {},
   "outputs": [],
   "source": [
    "!pip install langchain langchain-google-genai langchain_community xmltodict"
   ]
  },
  {
   "cell_type": "markdown",
   "metadata": {},
   "source": [
    "# Import Required Libraries\n",
    "Import the necessary libraries, including GoogleGenerativeAI, ChatPromptTemplate, StrOutputParser, RunnablePassthrough, and PubMedRetriever."
   ]
  },
  {
   "cell_type": "code",
   "execution_count": 4,
   "metadata": {},
   "outputs": [],
   "source": [
    "# Import the necessary libraries\n",
    "from langchain_google_genai import GoogleGenerativeAI\n",
    "from langchain_core.prompts import ChatPromptTemplate\n",
    "from langchain_core.output_parsers import StrOutputParser\n",
    "from langchain_core.runnables import RunnablePassthrough\n",
    "from langchain_community.retrievers import PubMedRetriever"
   ]
  },
  {
   "cell_type": "markdown",
   "metadata": {},
   "source": [
    "# Define Prompt Template\n",
    "Define the prompt template that will be used to generate responses based on the provided context and question."
   ]
  },
  {
   "cell_type": "code",
   "execution_count": 5,
   "metadata": {},
   "outputs": [],
   "source": [
    "# Define the prompt template that will be used to generate responses based on the provided context and question\n",
    "\n",
    "# Define the template string with placeholders for context and question\n",
    "template = \"\"\"Answer the question based only on the following context:\n",
    "\n",
    "{context}\n",
    "\n",
    "Question: {question}\n",
    "\"\"\"\n",
    "\n",
    "# Create a ChatPromptTemplate object from the template string\n",
    "prompt = ChatPromptTemplate.from_template(template)"
   ]
  },
  {
   "cell_type": "markdown",
   "metadata": {},
   "source": [
    "# Initialize Model and Retriever\n",
    "Initialize the GoogleGenerativeAI model and the PubMedRetriever."
   ]
  },
  {
   "cell_type": "code",
   "execution_count": null,
   "metadata": {},
   "outputs": [],
   "source": [
    "# Initialize the GoogleGenerativeAI model and the PubMedRetriever\n",
    "\n",
    "# Initialize the GoogleGenerativeAI model with the specified model name\n",
    "llm = GoogleGenerativeAI(\n",
    "    model=\"models/gemini-2.0-flash\",\n",
    "    google_api_key=\"YOUR_GOOGLE_API_KEY\"\n",
    ")\n",
    "\n",
    "# Initialize the PubMedRetriever to retrieve documents from PubMed\n",
    "retriever = PubMedRetriever()"
   ]
  },
  {
   "cell_type": "markdown",
   "metadata": {},
   "source": [
    "# Define Document Formatting Function\n",
    "Define a function to format the retrieved documents for better readability."
   ]
  },
  {
   "cell_type": "code",
   "execution_count": 7,
   "metadata": {},
   "outputs": [],
   "source": [
    "# Define Document Formatting Function\n",
    "def format_docs(docs):\n",
    "    \"\"\"\n",
    "    This function takes a list of documents and formats them into a single string.\n",
    "    Each document's content is separated by two newlines for better readability.\n",
    "\n",
    "    Args:\n",
    "    docs (list): List of document objects, each having a 'page_content' attribute.\n",
    "\n",
    "    Returns:\n",
    "    str: Formatted string containing the content of all documents.\n",
    "    \"\"\"\n",
    "    return \"\\n\\n\".join([d.page_content for d in docs])"
   ]
  },
  {
   "cell_type": "markdown",
   "metadata": {},
   "source": [
    "# Create Chain\n",
    "Create a chain that combines the retriever and the document formatting function, and passes the question through."
   ]
  },
  {
   "cell_type": "code",
   "execution_count": null,
   "metadata": {},
   "outputs": [
    {
     "name": "stdout",
     "output_type": "stream",
     "text": [
      "Too Many Requests, waiting for 0.20 seconds...\n",
      "Based on the provided text, Ataxia Telangiectasia (AT) is:\n",
      "\n",
      "1.  A neurocutaneous syndrome affecting the skin, eyes, and central and peripheral nervous systems.\n",
      "2.  Associated with an inactivating R2034Ter mutation in the Ataxia telangiectasia serine/threonine kinase gene (ATM), which is part of the homologous DNA damage repair pathway.  ATM is a member of the BRCA pathway.\n",
      "3.  In one case study, an ATM mutation in a pancreatic cancer patient showed a sustained clinical response to Olaparib maintenance therapy.  This suggests that ATM might be a druggable target in pancreatic cancer.\n",
      "4.  In a sepsis study, the ATM protein was investigated as part of the DNA damage response pathway.  Inhibition of ATM with KU60019 alleviated myocardial damage in a murine sepsis model.\n"
     ]
    }
   ],
   "source": [
    "# Create Chain\n",
    "\n",
    "# Create a chain that combines the retriever and the document formatting function, and passes the question through.\n",
    "chain = (\n",
    "    {\"context\": retriever | format_docs, \"question\": RunnablePassthrough()}\n",
    "    | prompt\n",
    "    | llm\n",
    "    | StrOutputParser()\n",
    ")\n",
    "\n",
    "answer = chain.invoke(\"ataxia telangiectasia\")\n",
    "\n",
    "print(answer)"
   ]
  }
 ],
 "metadata": {
  "kernelspec": {
   "display_name": "py311",
   "language": "python",
   "name": "python3"
  },
  "language_info": {
   "codemirror_mode": {
    "name": "ipython",
    "version": 3
   },
   "file_extension": ".py",
   "mimetype": "text/x-python",
   "name": "python",
   "nbconvert_exporter": "python",
   "pygments_lexer": "ipython3",
   "version": "3.11.0"
  }
 },
 "nbformat": 4,
 "nbformat_minor": 2
}
