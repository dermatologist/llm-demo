{
 "cells": [
  {
   "cell_type": "markdown",
   "id": "6e115b42",
   "metadata": {},
   "source": [
    "# Few shot learning"
   ]
  },
  {
   "cell_type": "code",
   "execution_count": 1,
   "id": "91b1e94c",
   "metadata": {},
   "outputs": [
    {
     "name": "stdout",
     "output_type": "stream",
     "text": [
      "Bell Eapen is an Indian entrepreneur and business executive. He is the co-founder and CEO of Meesho, an Indian e-commerce company based in Bengaluru, India.  Meesho focuses on social commerce, allowing individuals to resell products through social media platforms like WhatsApp and Facebook.\n"
     ]
    }
   ],
   "source": [
    "#!pip install langchain langchain-google-genai\n",
    "\n",
    "from langchain_google_genai import ChatGoogleGenerativeAI\n",
    "\n",
    "llm = ChatGoogleGenerativeAI(\n",
    "    model=\"gemini-1.5-pro\",\n",
    "    #google_api_key=\"Your API Key\"\n",
    ")\n",
    "message = llm.invoke(\"Who is Bell Eapen\")\n",
    "print(message.content)"
   ]
  },
  {
   "cell_type": "code",
   "execution_count": 2,
   "id": "671a9bb0",
   "metadata": {},
   "outputs": [
    {
     "name": "stdout",
     "output_type": "stream",
     "text": [
      "Diagnosis: Migraine\n",
      "Treatment: Rest, fluids, NSAIDs, triptans\n"
     ]
    }
   ],
   "source": [
    "from langchain_core.prompts import PromptTemplate\n",
    "from langchain_core.output_parsers import StrOutputParser\n",
    "TEMPLATE = \"\"\"\n",
    "You are an AI agent suggesting treatments for conditions.\n",
    "Suggest only the treatment as in the examples below.\n",
    "Examples:\n",
    "Diagnosis: Bell's palsy\n",
    "Treatment: Eye protection, steroids, acyclovir\n",
    "Diagnosis: Meningitis\n",
    "Treatment: IV antibiotics, bed rest\n",
    "Diagnosis: Multiple Sclerosis\n",
    "Treatment: {question}\n",
    "\"\"\"\n",
    "\n",
    "PROMPT = PromptTemplate.from_template(TEMPLATE)\n",
    "\n",
    "_input = {\"question\": \"What are Katie's complaints?\"}\n",
    "\n",
    "chain = PROMPT | llm | StrOutputParser()\n",
    "\n",
    "response = chain.invoke(_input)\n",
    "print(response)"
   ]
  }
 ],
 "metadata": {
  "kernelspec": {
   "display_name": "py311",
   "language": "python",
   "name": "python3"
  },
  "language_info": {
   "codemirror_mode": {
    "name": "ipython",
    "version": 3
   },
   "file_extension": ".py",
   "mimetype": "text/x-python",
   "name": "python",
   "nbconvert_exporter": "python",
   "pygments_lexer": "ipython3",
   "version": "3.11.0"
  }
 },
 "nbformat": 4,
 "nbformat_minor": 5
}
