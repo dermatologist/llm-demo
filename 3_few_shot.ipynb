{
 "cells": [
  {
   "cell_type": "markdown",
   "id": "0",
   "metadata": {},
   "source": [
    "# Few shot learning"
   ]
  },
  {
   "cell_type": "code",
   "execution_count": null,
   "id": "1",
   "metadata": {},
   "outputs": [],
   "source": [
    "!pip install langchain langchain-google-genai"
   ]
  },
  {
   "cell_type": "code",
   "execution_count": null,
   "id": "2",
   "metadata": {},
   "outputs": [],
   "source": [
    "\n",
    "from langchain_google_genai import ChatGoogleGenerativeAI\n",
    "\n",
    "llm = ChatGoogleGenerativeAI(\n",
    "    model=\"gemini-2.5-flash\",\n",
    "    # google_api_key=\"Your API Key\"\n",
    ")\n"
   ]
  },
  {
   "cell_type": "code",
   "execution_count": null,
   "id": "3",
   "metadata": {},
   "outputs": [],
   "source": [
    "from langchain_core.prompts import PromptTemplate\n",
    "from langchain_core.output_parsers import StrOutputParser\n",
    "TEMPLATE = \"\"\"\n",
    "You are an AI agent suggesting treatments for conditions.\n",
    "Suggest only the treatment as in the examples below.\n",
    "Examples:\n",
    "Diagnosis: Bell's palsy\n",
    "Treatment: Eye protection, steroids, acyclovir\n",
    "Diagnosis: Meningitis\n",
    "Treatment: IV antibiotics, bed rest\n",
    "Diagnosis: {question}\n",
    "Treatment:\n",
    "\"\"\"\n",
    "\n",
    "PROMPT = PromptTemplate.from_template(TEMPLATE)\n",
    "\n",
    "_input = {\"question\": \"Multiple Sclerosis\"}\n",
    "\n",
    "chain = PROMPT | llm | StrOutputParser()\n",
    "\n",
    "response = chain.invoke(_input)\n",
    "print(response)"
   ]
  }
 ],
 "metadata": {
  "kernelspec": {
   "display_name": "py311",
   "language": "python",
   "name": "python3"
  },
  "language_info": {
   "codemirror_mode": {
    "name": "ipython",
    "version": 3
   },
   "file_extension": ".py",
   "mimetype": "text/x-python",
   "name": "python",
   "nbconvert_exporter": "python",
   "pygments_lexer": "ipython3",
   "version": "3.11.0"
  }
 },
 "nbformat": 4,
 "nbformat_minor": 5
}
