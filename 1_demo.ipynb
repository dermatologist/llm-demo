{
 "cells": [
  {
   "cell_type": "markdown",
   "id": "0",
   "metadata": {},
   "source": [
    "# Programmatically accessing the Google Gemini API\n",
    "* This notebook demonstrates how to use the Google Gemini API to generate text.\n",
    "* It includes examples of how to set up the API client, make requests, and handle responses.\n",
    "* Import necessary libraries\n",
    "\n",
    "* Go to https://aistudio.google.com/  and get your API key\n",
    "* Alternatively you can use openrouter.ai, search for free models, and get your API key\n",
    "\n",
    "* Export the API key as an environment variable, if you know how to do it\n",
    "* export GOOGLE_API_KEY=your_api_key\n"
   ]
  },
  {
   "cell_type": "code",
   "execution_count": null,
   "id": "1",
   "metadata": {},
   "outputs": [],
   "source": [
    "#!pip install langchain langchain-google-genai\n",
    "\n",
    "from langchain_google_genai import ChatGoogleGenerativeAI\n",
    "\n",
    "llm = ChatGoogleGenerativeAI(\n",
    "    model=\"gemini-1.5-pro\",\n",
    "    #google_api_key=\"Your API Key\"\n",
    ")\n",
    "message = llm.invoke(\"Who is Bell Eapen\")\n",
    "print(message.content)"
   ]
  },
  {
   "cell_type": "code",
   "execution_count": null,
   "id": "2",
   "metadata": {},
   "outputs": [],
   "source": [
    "# Use openai instead of ChatGoogleGenerativeAI to use OpenAI's API.\n",
    "#! pip install langchain-openai\n",
    "from langchain_openai import ChatOpenAI\n",
    "\n",
    "llm = ChatOpenAI(\n",
    "    base_url=\"https://openrouter.ai/api/v1\",\n",
    "    api_key=\"Your API key\",\n",
    ")\n",
    "\n",
    "message = llm.invoke(\"Who is Bell Eapen\")\n",
    "print(message.content)"
   ]
  }
 ],
 "metadata": {
  "kernelspec": {
   "display_name": "py311",
   "language": "python",
   "name": "python3"
  },
  "language_info": {
   "codemirror_mode": {
    "name": "ipython",
    "version": 3
   },
   "file_extension": ".py",
   "mimetype": "text/x-python",
   "name": "python",
   "nbconvert_exporter": "python",
   "pygments_lexer": "ipython3",
   "version": "3.11.0"
  }
 },
 "nbformat": 4,
 "nbformat_minor": 5
}
