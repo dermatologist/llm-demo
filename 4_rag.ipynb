{
 "cells": [
  {
   "cell_type": "markdown",
   "id": "0",
   "metadata": {},
   "source": [
    "# Few shot learning"
   ]
  },
  {
   "cell_type": "code",
   "execution_count": null,
   "id": "1",
   "metadata": {},
   "outputs": [],
   "source": [
    "!pip install langchain langchain-google-genai"
   ]
  },
  {
   "cell_type": "code",
   "execution_count": null,
   "id": "2",
   "metadata": {},
   "outputs": [],
   "source": [
    "\n",
    "from langchain_google_genai import ChatGoogleGenerativeAI\n",
    "\n",
    "llm = ChatGoogleGenerativeAI(\n",
    "    model=\"gemini-2.5-flash\",\n",
    "    # google_api_key=\"Your API Key\"\n",
    ")\n"
   ]
  },
  {
   "cell_type": "code",
   "execution_count": null,
   "id": "3",
   "metadata": {},
   "outputs": [],
   "source": [
    "from langchain_core.prompts import PromptTemplate\n",
    "from langchain_core.output_parsers import StrOutputParser\n",
    "TEMPLATE = \"\"\"\n",
    "Context information is below.\n",
    " --------------------\n",
    " Katie presents today's session feeling “depressed.” She states that her mood has been “getting worse.”\n",
    " She reports that she has been struggling to get out of the house to enjoy social events that she is actually interested in,\n",
    " then becomes more frustrated with herself. She describes an increase in sleep issues,\n",
    " both difficulty falling asleep and staying asleep. Katie says that she “just wants to be better.”\n",
    " Katie continues to endorse low energy, loss of interest in activities, difficulty sleeping, and feelings of guilt,\n",
    " although she is not able to express the source of her guilt.\n",
    " --------------------\n",
    " Given the context information and not prior knowledge, answer the query.\n",
    " Query: {question}\n",
    "\n",
    " Answer:\n",
    "\"\"\"\n",
    "\n",
    "PROMPT = PromptTemplate.from_template(TEMPLATE)\n",
    "\n",
    "_input = {\"question\": \"What are Katie's complaints?\"}\n",
    "\n",
    "chain = PROMPT | llm | StrOutputParser()\n",
    "\n",
    "response = chain.invoke(_input)\n",
    "print(response)"
   ]
  }
 ],
 "metadata": {
  "kernelspec": {
   "display_name": "py311",
   "language": "python",
   "name": "python3"
  },
  "language_info": {
   "codemirror_mode": {
    "name": "ipython",
    "version": 3
   },
   "file_extension": ".py",
   "mimetype": "text/x-python",
   "name": "python",
   "nbconvert_exporter": "python",
   "pygments_lexer": "ipython3",
   "version": "3.11.0"
  }
 },
 "nbformat": 4,
 "nbformat_minor": 5
}
