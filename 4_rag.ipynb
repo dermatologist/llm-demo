{
 "cells": [
  {
   "cell_type": "markdown",
   "id": "6e115b42",
   "metadata": {},
   "source": [
    "# Few shot learning"
   ]
  },
  {
   "cell_type": "code",
   "execution_count": 2,
   "id": "91b1e94c",
   "metadata": {},
   "outputs": [
    {
     "name": "stdout",
     "output_type": "stream",
     "text": [
      "Bell Eapen is an **Indian entrepreneur and philanthropist** known primarily for founding two successful companies:\n",
      "\n",
      "* **Paul Writer:** A marketing services firm specializing in content marketing, demand generation, and sales enablement for B2B technology companies.\n",
      "* **Magoosh:** An online test preparation company that helps students prepare for standardized tests like the GRE, GMAT, TOEFL, IELTS, and SAT.\n",
      "\n",
      "While he co-founded Magoosh, he is more closely associated with Paul Writer, where he remains actively involved. He is recognized for his expertise in B2B marketing and is a frequent speaker at industry events.  He's also involved in philanthropic activities, particularly focused on education.\n"
     ]
    }
   ],
   "source": [
    "#!pip install langchain langchain-google-genai\n",
    "\n",
    "from langchain_google_genai import ChatGoogleGenerativeAI\n",
    "\n",
    "llm = ChatGoogleGenerativeAI(\n",
    "    model=\"gemini-1.5-pro\",\n",
    "    #google_api_key=\"Your API Key\"\n",
    ")\n",
    "message = llm.invoke(\"Who is Bell Eapen\")\n",
    "print(message.content)"
   ]
  },
  {
   "cell_type": "code",
   "execution_count": 3,
   "id": "671a9bb0",
   "metadata": {},
   "outputs": [
    {
     "name": "stdout",
     "output_type": "stream",
     "text": [
      "Katie's complaints include:\n",
      "\n",
      "* Depressed mood that is worsening\n",
      "* Difficulty getting out of the house for social events, even those she's interested in\n",
      "* Frustration with herself\n",
      "* Increased sleep issues, including difficulty falling asleep and staying asleep\n",
      "* Low energy\n",
      "* Loss of interest in activities\n",
      "* Feelings of guilt (without a clear source)\n",
      "* A general desire to feel better\n"
     ]
    }
   ],
   "source": [
    "from langchain_core.prompts import PromptTemplate\n",
    "from langchain_core.output_parsers import StrOutputParser\n",
    "TEMPLATE = \"\"\"\n",
    "Context information is below.\n",
    " --------------------\n",
    " Katie presents today's session feeling “depressed.” She states that her mood has been “getting worse.”\n",
    " She reports that she has been struggling to get out of the house to enjoy social events that she is actually interested in,\n",
    " then becomes more frustrated with herself. She describes an increase in sleep issues,\n",
    " both difficulty falling asleep and staying asleep. Katie says that she “just wants to be better.”\n",
    " Katie continues to endorse low energy, loss of interest in activities, difficulty sleeping, and feelings of guilt,\n",
    " although she is not able to express the source of her guilt.\n",
    " --------------------\n",
    " Given the context information and not prior knowledge, answer the query.\n",
    " Query: {question}\n",
    "\n",
    " Answer:\n",
    "\"\"\"\n",
    "\n",
    "PROMPT = PromptTemplate.from_template(TEMPLATE)\n",
    "\n",
    "_input = {\"question\": \"What are Katie's complaints?\"}\n",
    "\n",
    "chain = PROMPT | llm | StrOutputParser()\n",
    "\n",
    "response = chain.invoke(_input)\n",
    "print(response)"
   ]
  }
 ],
 "metadata": {
  "kernelspec": {
   "display_name": "py311",
   "language": "python",
   "name": "python3"
  },
  "language_info": {
   "codemirror_mode": {
    "name": "ipython",
    "version": 3
   },
   "file_extension": ".py",
   "mimetype": "text/x-python",
   "name": "python",
   "nbconvert_exporter": "python",
   "pygments_lexer": "ipython3",
   "version": "3.11.0"
  }
 },
 "nbformat": 4,
 "nbformat_minor": 5
}
