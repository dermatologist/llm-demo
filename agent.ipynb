{
 "cells": [
  {
   "cell_type": "markdown",
   "metadata": {},
   "source": [
    "# Import Required Libraries\n",
    "Import the necessary libraries, including os, AgentExecutor, AgentType, create_react_agent, GoogleGenerativeAI, BaseTool, StructuredTool, tool, PromptTemplate, and hub."
   ]
  },
  {
   "cell_type": "code",
   "execution_count": 1,
   "metadata": {},
   "outputs": [
    {
     "name": "stderr",
     "output_type": "stream",
     "text": [
      "/home/beapen/venv/genai/lib/python3.11/site-packages/tqdm/auto.py:21: TqdmWarning: IProgress not found. Please update jupyter and ipywidgets. See https://ipywidgets.readthedocs.io/en/stable/user_install.html\n",
      "  from .autonotebook import tqdm as notebook_tqdm\n"
     ]
    }
   ],
   "source": [
    "# Import the necessary libraries\n",
    "import os\n",
    "from langchain.agents import AgentExecutor, AgentType, create_react_agent\n",
    "from langchain_google_genai import GoogleGenerativeAI\n",
    "from langchain.tools import BaseTool, StructuredTool, tool\n",
    "from langchain_core.prompts import PromptTemplate\n",
    "from langchain import hub\n",
    "\n",
    "# Initialize the language model\n",
    "llm = GoogleGenerativeAI(model=\"models/gemini-1.5-flash-latest\")"
   ]
  },
  {
   "cell_type": "markdown",
   "metadata": {},
   "source": [
    "# Setup Language Model\n",
    "Initialize the GoogleGenerativeAI language model with the specified model."
   ]
  },
  {
   "cell_type": "code",
   "execution_count": 2,
   "metadata": {},
   "outputs": [],
   "source": [
    "# Setup Language Model\n",
    "\n",
    "# Initialize the GoogleGenerativeAI language model with the specified model\n",
    "llm = GoogleGenerativeAI(model=\"models/gemini-1.5-flash-latest\")"
   ]
  },
  {
   "cell_type": "markdown",
   "metadata": {},
   "source": [
    "# Define BMI Calculation Tool\n",
    "Define the bmi tool function that calculates the BMI of a person given their height and weight."
   ]
  },
  {
   "cell_type": "code",
   "execution_count": 3,
   "metadata": {},
   "outputs": [],
   "source": [
    "# Define BMI Calculation Tool\n",
    "\n",
    "# Define the bmi tool function that calculates the BMI of a person given their height and weight\n",
    "@tool\n",
    "def bmi(input: str) -> int:\n",
    "    \"\"\"Calculates BMI of a person for given height and weight.\"\"\"\n",
    "\n",
    "    # Parse the input string to get height and weight\n",
    "    height = int(input.split(\",\")[0].split(\":\")[1].strip().replace(\"cm\", \"\"))\n",
    "    weight = int(input.split(\",\")[1].split(\":\")[1].strip().replace(\"kg\", \"\"))\n",
    "\n",
    "    # Calculate BMI\n",
    "    bmi = weight / ((height/100) ** 2)\n",
    "\n",
    "    # Return the formatted result\n",
    "    return \"Answer: The BMI of a person with height {} cm and weight {} kg is {:.2f}\".format(height, weight, bmi)"
   ]
  },
  {
   "cell_type": "markdown",
   "metadata": {},
   "source": [
    "# Define Multiplication Tool\n",
    "Define the multiply tool function that multiplies two numbers (implementation to be completed)."
   ]
  },
  {
   "cell_type": "code",
   "execution_count": 4,
   "metadata": {},
   "outputs": [],
   "source": [
    "# Define Multiplication Tool\n",
    "\n",
    "# Define the multiply tool function that multiplies two numbers\n",
    "@tool\n",
    "def multiply(input: str) -> int:\n",
    "    \"\"\"Multiplies two numbers provided in the input string.\"\"\"\n",
    "\n",
    "    # Parse the input string to get the two numbers\n",
    "    num1 = int(input.split(\",\")[0].split(\":\")[1].strip())\n",
    "    num2 = int(input.split(\",\")[1].split(\":\")[1].strip())\n",
    "\n",
    "    # Multiply the two numbers\n",
    "    result = num1 * num2\n",
    "\n",
    "    # Return the formatted result\n",
    "    return \"Answer: The product of {} and {} is {}\".format(num1, num2, result)"
   ]
  },
  {
   "cell_type": "markdown",
   "metadata": {},
   "source": [
    "## Setp tools, prompt and agents\n"
   ]
  },
  {
   "cell_type": "code",
   "execution_count": 5,
   "metadata": {},
   "outputs": [
    {
     "name": "stderr",
     "output_type": "stream",
     "text": [
      "/home/beapen/venv/genai/lib/python3.11/site-packages/langsmith/client.py:354: LangSmithMissingAPIKeyWarning: API key must be provided when using hosted LangSmith API\n",
      "  warnings.warn(\n"
     ]
    }
   ],
   "source": [
    "tools = [bmi, multiply]\n",
    "# Get the prompt to use - you can modify this!\n",
    "prompt = hub.pull(\"hwchase17/react\")\n",
    "\n",
    "agent = create_react_agent(llm, tools, prompt)\n",
    "agent_executor = AgentExecutor(\n",
    "    agent=agent,\n",
    "    tools=tools,\n",
    "    max_iterations=1,\n",
    "    verbose=True\n",
    ")"
   ]
  },
  {
   "cell_type": "markdown",
   "metadata": {},
   "source": [
    "## Run the agent"
   ]
  },
  {
   "cell_type": "code",
   "execution_count": 6,
   "metadata": {},
   "outputs": [
    {
     "name": "stdout",
     "output_type": "stream",
     "text": [
      "\n",
      "\n",
      "\u001b[1m> Entering new AgentExecutor chain...\u001b[0m\n",
      "\u001b[32;1m\u001b[1;3mQuestion: Calculate the BMI of a person with height 180 cm and weight 70 kg.\n",
      "Thought: I need to use the bmi function to calculate the BMI.  The input should be the height and weight.\n",
      "Action: bmi\n",
      "Action Input: height:180cm,weight:70kg\u001b[0m\u001b[36;1m\u001b[1;3mAnswer: The BMI of a person with height 180 cm and weight 70 kg is 21.60\u001b[0m\u001b[32;1m\u001b[1;3m\u001b[0m\n",
      "\n",
      "\u001b[1m> Finished chain.\u001b[0m\n",
      "{'input': 'Calculate the BMI of a person with height 180 cm and weight 70 kg.', 'output': 'Agent stopped due to iteration limit or time limit.'}\n"
     ]
    }
   ],
   "source": [
    "question = \"Calculate the BMI of a person with height 180 cm and weight 70 kg.\"\n",
    "response = agent_executor.invoke({\"input\": question})\n",
    "\n",
    "\n",
    "print(response)"
   ]
  }
 ],
 "metadata": {
  "kernelspec": {
   "display_name": "genai",
   "language": "python",
   "name": "python3"
  },
  "language_info": {
   "codemirror_mode": {
    "name": "ipython",
    "version": 3
   },
   "file_extension": ".py",
   "mimetype": "text/x-python",
   "name": "python",
   "nbconvert_exporter": "python",
   "pygments_lexer": "ipython3",
   "version": "3.11.9"
  }
 },
 "nbformat": 4,
 "nbformat_minor": 2
}
