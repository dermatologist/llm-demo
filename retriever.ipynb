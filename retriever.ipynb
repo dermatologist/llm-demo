{
 "cells": [
  {
   "cell_type": "markdown",
   "metadata": {},
   "source": [
    "# Import Required Libraries\n",
    "Import the necessary libraries, including GoogleGenerativeAI, ChatPromptTemplate, StrOutputParser, RunnablePassthrough, and PubMedRetriever."
   ]
  },
  {
   "cell_type": "code",
   "execution_count": 1,
   "metadata": {},
   "outputs": [
    {
     "name": "stderr",
     "output_type": "stream",
     "text": [
      "/home/beapen/venv/genai/lib/python3.11/site-packages/tqdm/auto.py:21: TqdmWarning: IProgress not found. Please update jupyter and ipywidgets. See https://ipywidgets.readthedocs.io/en/stable/user_install.html\n",
      "  from .autonotebook import tqdm as notebook_tqdm\n"
     ]
    }
   ],
   "source": [
    "# Import the necessary libraries\n",
    "from langchain_google_genai import GoogleGenerativeAI\n",
    "from langchain_core.prompts import ChatPromptTemplate\n",
    "from langchain_core.output_parsers import StrOutputParser\n",
    "from langchain_core.runnables import RunnablePassthrough\n",
    "from langchain_community.retrievers import PubMedRetriever"
   ]
  },
  {
   "cell_type": "markdown",
   "metadata": {},
   "source": [
    "# Define Prompt Template\n",
    "Define the prompt template that will be used to generate responses based on the provided context and question."
   ]
  },
  {
   "cell_type": "code",
   "execution_count": 2,
   "metadata": {},
   "outputs": [],
   "source": [
    "# Define the prompt template that will be used to generate responses based on the provided context and question\n",
    "\n",
    "# Define the template string with placeholders for context and question\n",
    "template = \"\"\"Answer the question based only on the following context:\n",
    "\n",
    "{context}\n",
    "\n",
    "Question: {question}\n",
    "\"\"\"\n",
    "\n",
    "# Create a ChatPromptTemplate object from the template string\n",
    "prompt = ChatPromptTemplate.from_template(template)"
   ]
  },
  {
   "cell_type": "markdown",
   "metadata": {},
   "source": [
    "# Initialize Model and Retriever\n",
    "Initialize the GoogleGenerativeAI model and the PubMedRetriever."
   ]
  },
  {
   "cell_type": "code",
   "execution_count": 3,
   "metadata": {},
   "outputs": [],
   "source": [
    "# Initialize the GoogleGenerativeAI model and the PubMedRetriever\n",
    "\n",
    "# Initialize the GoogleGenerativeAI model with the specified model name\n",
    "model = GoogleGenerativeAI(model=\"models/gemini-1.5-flash-latest\")\n",
    "\n",
    "# Initialize the PubMedRetriever to retrieve documents from PubMed\n",
    "retriever = PubMedRetriever()"
   ]
  },
  {
   "cell_type": "markdown",
   "metadata": {},
   "source": [
    "# Define Document Formatting Function\n",
    "Define a function to format the retrieved documents for better readability."
   ]
  },
  {
   "cell_type": "code",
   "execution_count": 4,
   "metadata": {},
   "outputs": [],
   "source": [
    "# Define Document Formatting Function\n",
    "def format_docs(docs):\n",
    "    \"\"\"\n",
    "    This function takes a list of documents and formats them into a single string.\n",
    "    Each document's content is separated by two newlines for better readability.\n",
    "\n",
    "    Args:\n",
    "    docs (list): List of document objects, each having a 'page_content' attribute.\n",
    "\n",
    "    Returns:\n",
    "    str: Formatted string containing the content of all documents.\n",
    "    \"\"\"\n",
    "    return \"\\n\\n\".join([d.page_content for d in docs])"
   ]
  },
  {
   "cell_type": "markdown",
   "metadata": {},
   "source": [
    "# Create Chain\n",
    "Create a chain that combines the retriever and the document formatting function, and passes the question through."
   ]
  },
  {
   "cell_type": "code",
   "execution_count": 5,
   "metadata": {},
   "outputs": [
    {
     "name": "stdout",
     "output_type": "stream",
     "text": [
      "Based on the provided text, ataxia telangiectasia is relevant in two ways:\n",
      "\n",
      "1.  **VE-822, an ataxia-telangiectasia and RAD3-related inhibitor,** is used in combination with FOLFIRINOX to treat pancreatic ductal adenocarcinoma (PDAC) by targeting DNA damage repair.\n",
      "\n",
      "2.  The study on metformin response in T2DM patients investigated the role of genetic variants in  **ataxia telangiectasia mutated (ATM)** gene, although no significant association was found.  A separate study investigated radiation-induced ATM nucleo-shuttling (RIANS) in Marfan syndrome fibroblasts, showing impaired recognition of DNA double-strand breaks due to diminished RIANS.\n",
      "\n"
     ]
    }
   ],
   "source": [
    "# Create Chain\n",
    "\n",
    "# Create a chain that combines the retriever and the document formatting function, and passes the question through.\n",
    "chain = (\n",
    "    {\"context\": retriever | format_docs, \"question\": RunnablePassthrough()}\n",
    "    | prompt\n",
    "    | model\n",
    "    | StrOutputParser()\n",
    ")\n",
    "\n",
    "answer = chain.invoke(\"ataxia telangiectasia\")\n",
    "\n",
    "print(answer)"
   ]
  }
 ],
 "metadata": {
  "kernelspec": {
   "display_name": "genai",
   "language": "python",
   "name": "python3"
  },
  "language_info": {
   "codemirror_mode": {
    "name": "ipython",
    "version": 3
   },
   "file_extension": ".py",
   "mimetype": "text/x-python",
   "name": "python",
   "nbconvert_exporter": "python",
   "pygments_lexer": "ipython3",
   "version": "3.11.9"
  }
 },
 "nbformat": 4,
 "nbformat_minor": 2
}
